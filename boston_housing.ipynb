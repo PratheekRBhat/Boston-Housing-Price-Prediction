{
  "nbformat": 4,
  "nbformat_minor": 0,
  "metadata": {
    "colab": {
      "name": "boston_housing.ipynb",
      "provenance": []
    },
    "kernelspec": {
      "name": "python3",
      "display_name": "Python 3"
    }
  },
  "cells": [
    {
      "cell_type": "markdown",
      "metadata": {
        "id": "NH8Jthx3k74e"
      },
      "source": [
        "# Predicting Boston Housing Prices\n",
        "The aim of this project is to evaluate the performance and predictive power of a model which has been trained on the Boston house prices datatset. "
      ]
    },
    {
      "cell_type": "markdown",
      "metadata": {
        "id": "mndtZSKYlsUZ"
      },
      "source": [
        "##Loading dataset\n",
        "In this cell, the dataset will be loaded along with some necessary libraries of Python. The dataset will be reported when it is successfully loaded."
      ]
    },
    {
      "cell_type": "code",
      "metadata": {
        "id": "6S-t3NPBlkDs",
        "outputId": "97c061b3-c6a8-418c-9960-bab96e9d1d21",
        "colab": {
          "base_uri": "https://localhost:8080/",
          "height": 35
        }
      },
      "source": [
        "import pandas as pd\n",
        "import numpy as np\n",
        "from sklearn.model_selection import ShuffleSplit\n",
        "\n",
        "#importing visuals for visualisations\n",
        "import visuals as vs\n",
        "\n",
        "%matplotlib inline\n",
        "\n",
        "data = pd.read_csv('housing.csv')\n",
        "prices = data['MEDV']\n",
        "features = data.drop('MEDV', axis = 1)\n",
        "\n",
        "print(\"Boston housing dataset has {} data points with {} variables each.\".format(*data.shape))"
      ],
      "execution_count": 19,
      "outputs": [
        {
          "output_type": "stream",
          "text": [
            "Boston housing dataset has 489 data points with 4 variables each.\n"
          ],
          "name": "stdout"
        }
      ]
    },
    {
      "cell_type": "markdown",
      "metadata": {
        "id": "MPHWtSA14tSH"
      },
      "source": [
        "##Defining a performance metric\n",
        "Here, we'll be using Co-efficient of Determination to evaluate the performance of the model. "
      ]
    },
    {
      "cell_type": "code",
      "metadata": {
        "id": "c9nBrrGv5aWs"
      },
      "source": [
        "from sklearn.metrics import r2_score"
      ],
      "execution_count": 20,
      "outputs": []
    },
    {
      "cell_type": "code",
      "metadata": {
        "id": "lRufLJM75qfC"
      },
      "source": [
        "def performance_metric(y_true, y_predict):\n",
        "  score = r2_score(y_true, y_predict)\n",
        "\n",
        "  return score"
      ],
      "execution_count": 21,
      "outputs": []
    },
    {
      "cell_type": "markdown",
      "metadata": {
        "id": "TUZlvELC6cxo"
      },
      "source": [
        "##Splitting the data \n",
        "Here the data will be split into training and testing data using 'train_test_split' from 'model_selection'"
      ]
    },
    {
      "cell_type": "code",
      "metadata": {
        "id": "x6e9t6qI7aoT",
        "outputId": "bba023e9-f8fe-4ab3-e01b-fef0810a4a33",
        "colab": {
          "base_uri": "https://localhost:8080/",
          "height": 35
        }
      },
      "source": [
        "from sklearn.model_selection import train_test_split\n",
        "\n",
        "X_train, X_test, y_train, y_test = train_test_split(features, prices, train_size = 0.8, random_state = 24)\n",
        "\n",
        "print(\"Training and testing split successful.\")"
      ],
      "execution_count": 22,
      "outputs": [
        {
          "output_type": "stream",
          "text": [
            "Training and testing split successful.\n"
          ],
          "name": "stdout"
        }
      ]
    },
    {
      "cell_type": "markdown",
      "metadata": {
        "id": "nECznS6o9EC4"
      },
      "source": [
        "##Fitting the model\n",
        "Now that the data set is ready, we can fit the model. Here, **decision tree algorithm** will be used to train the model. To ensure that we are producing an optimized model, we will train the model using the grid search technique to optimize the `'max_depth'` parameter for the decision tree.\n",
        "\n",
        "In addition,in our implementation, we will be using `ShuffleSplit()` for an alternative form of cross-validation. The `ShuffleSplit()` implementation below will create 10 (`'n_splits'`) shuffled sets, and for each shuffle, 20% (`'test_size'`) of the data will be used as the *validation set*."
      ]
    },
    {
      "cell_type": "code",
      "metadata": {
        "id": "2gqk5sWT8729"
      },
      "source": [
        "from sklearn.tree import DecisionTreeRegressor\n",
        "from sklearn.metrics import make_scorer\n",
        "from sklearn.model_selection import GridSearchCV"
      ],
      "execution_count": 23,
      "outputs": []
    },
    {
      "cell_type": "code",
      "metadata": {
        "id": "szEQBVl1-zCG"
      },
      "source": [
        "def fit_model(X, y):\n",
        "  cv_sets = ShuffleSplit(n_splits=10, test_size=0.20, random_state=0)\n",
        "  regressor = DecisionTreeRegressor(random_state=24)\n",
        "  params = {'max_depth' : range(1,10)}\n",
        "  scoring_fnc = make_scorer(performance_metric)\n",
        "  grid = GridSearchCV(regressor, params, scoring=scoring_fnc, cv=cv_sets)\n",
        "  grid_fit = grid.fit(X, y)\n",
        "\n",
        "  return grid_fit.best_estimator_"
      ],
      "execution_count": 24,
      "outputs": []
    },
    {
      "cell_type": "code",
      "metadata": {
        "id": "Ak0FkDXTAJHV",
        "outputId": "e87cf5b5-39a6-43e5-cad6-65f1e2c12247",
        "colab": {
          "base_uri": "https://localhost:8080/",
          "height": 35
        }
      },
      "source": [
        "reg = fit_model(X_train, y_train)\n",
        "\n",
        "print(\"Parameter 'max_depth' is {} for the optimal model\".format(reg.get_params()['max_depth']))"
      ],
      "execution_count": 25,
      "outputs": [
        {
          "output_type": "stream",
          "text": [
            "Parameter 'max_depth' is 4 for the optimal model\n"
          ],
          "name": "stdout"
        }
      ]
    },
    {
      "cell_type": "markdown",
      "metadata": {
        "id": "WKxA5lrAArct"
      },
      "source": [
        "##Predicting the selling prices\n",
        "Now that the model has been trained, the model will be used to predict the housing prices for various values."
      ]
    },
    {
      "cell_type": "code",
      "metadata": {
        "id": "S_cwdHsyAl45",
        "outputId": "975e5249-ef0c-4747-86fc-226805b7528f",
        "colab": {
          "base_uri": "https://localhost:8080/",
          "height": 72
        }
      },
      "source": [
        "client_data = [[5, 17, 15],\n",
        "               [4, 32, 22], \n",
        "               [8, 3, 12]] \n",
        "\n",
        "# Show predictions\n",
        "for i, price in enumerate(reg.predict(client_data)):\n",
        "    print(\"Predicted selling price for Client {}'s home: ${:,.2f}\".format(i+1, price))"
      ],
      "execution_count": 26,
      "outputs": [
        {
          "output_type": "stream",
          "text": [
            "Predicted selling price for Client 1's home: $412,324.14\n",
            "Predicted selling price for Client 2's home: $234,546.67\n",
            "Predicted selling price for Client 3's home: $914,025.00\n"
          ],
          "name": "stdout"
        }
      ]
    },
    {
      "cell_type": "code",
      "metadata": {
        "id": "h7YAqsSYBH_V",
        "outputId": "ab88f152-e6a1-4112-d6c7-6cf08f3952a0",
        "colab": {
          "base_uri": "https://localhost:8080/",
          "height": 235
        }
      },
      "source": [
        "vs.PredictTrials(features, prices, fit_model, client_data)"
      ],
      "execution_count": 27,
      "outputs": [
        {
          "output_type": "stream",
          "text": [
            "Trial 1: $391,183.33\n",
            "Trial 2: $419,700.00\n",
            "Trial 3: $415,800.00\n",
            "Trial 4: $420,622.22\n",
            "Trial 5: $418,377.27\n",
            "Trial 6: $411,931.58\n",
            "Trial 7: $399,663.16\n",
            "Trial 8: $407,232.00\n",
            "Trial 9: $351,577.61\n",
            "Trial 10: $413,700.00\n",
            "\n",
            "Range in prices: $69,044.61\n"
          ],
          "name": "stdout"
        }
      ]
    }
  ]
}
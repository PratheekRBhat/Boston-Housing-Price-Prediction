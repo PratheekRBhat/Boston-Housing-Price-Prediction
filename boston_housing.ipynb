{
  "nbformat": 4,
  "nbformat_minor": 0,
  "metadata": {
    "colab": {
      "name": "boston_housing.ipynb",
      "provenance": [],
      "toc_visible": true
    },
    "kernelspec": {
      "name": "python3",
      "display_name": "Python 3"
    }
  },
  "cells": [
    {
      "cell_type": "markdown",
      "metadata": {
        "id": "NH8Jthx3k74e"
      },
      "source": [
        "# Predicting Boston Housing Prices\n",
        "The aim of this project is to evaluate the performance and predictive power of a model which has been trained on the Boston house prices datatset. "
      ]
    },
    {
      "cell_type": "markdown",
      "metadata": {
        "id": "mndtZSKYlsUZ"
      },
      "source": [
        "##Loading dataset\n",
        "In this cell, the dataset will be loaded along with some necessary libraries of Python. The dataset will be reported when it is successfully loaded."
      ]
    },
    {
      "cell_type": "code",
      "metadata": {
        "id": "6S-t3NPBlkDs",
        "outputId": "0ebdb7da-eb52-42d8-c5aa-b2792ad370b8",
        "colab": {
          "base_uri": "https://localhost:8080/",
          "height": 35
        }
      },
      "source": [
        "import pandas as pd\n",
        "import numpy as np\n",
        "from sklearn.model_selection import ShuffleSplit\n",
        "\n",
        "#importing visuals for visualisations\n",
        "import visuals as vs\n",
        "\n",
        "%matplotlib inline\n",
        "\n",
        "data = pd.read_csv('housing.csv')\n",
        "prices = data['MEDV']\n",
        "features = data.drop('MEDV', axis = 1)\n",
        "\n",
        "print(\"Boston housing dataset has {} data points with {} variables each.\".format(*data.shape))"
      ],
      "execution_count": null,
      "outputs": [
        {
          "output_type": "stream",
          "text": [
            "Boston housing dataset has 489 data points with 4 variables each.\n"
          ],
          "name": "stdout"
        }
      ]
    },
    {
      "cell_type": "markdown",
      "metadata": {
        "id": "MPHWtSA14tSH"
      },
      "source": [
        "##Defining a performance metric\n",
        "Here, we'll be using Co-efficient of Determination to evaluate the performance of the model. "
      ]
    },
    {
      "cell_type": "code",
      "metadata": {
        "id": "c9nBrrGv5aWs"
      },
      "source": [
        "from sklearn.metrics import r2_score"
      ],
      "execution_count": null,
      "outputs": []
    },
    {
      "cell_type": "code",
      "metadata": {
        "id": "lRufLJM75qfC"
      },
      "source": [
        "def performance_metric(y_true, y_predict):\n",
        "  score = r2_score(y_true, y_predict)\n",
        "\n",
        "  return score"
      ],
      "execution_count": null,
      "outputs": []
    },
    {
      "cell_type": "markdown",
      "metadata": {
        "id": "TUZlvELC6cxo"
      },
      "source": [
        "##Splitting the data \n",
        "Here the data will be split into training and testing data using 'train_test_split' from 'model_selection'"
      ]
    },
    {
      "cell_type": "code",
      "metadata": {
        "id": "x6e9t6qI7aoT",
        "outputId": "81bf5c4a-7622-4de3-a710-8306423cad0d",
        "colab": {
          "base_uri": "https://localhost:8080/",
          "height": 35
        }
      },
      "source": [
        "from sklearn.model_selection import train_test_split\n",
        "\n",
        "X_train, X_test, y_train, y_test = train_test_split(features, prices, train_size = 0.8, random_state = 24)\n",
        "\n",
        "print(\"Training and testing split successful.\")"
      ],
      "execution_count": null,
      "outputs": [
        {
          "output_type": "stream",
          "text": [
            "Training and testing split successful.\n"
          ],
          "name": "stdout"
        }
      ]
    },
    {
      "cell_type": "markdown",
      "metadata": {
        "id": "nECznS6o9EC4"
      },
      "source": [
        "##Fitting the model\n",
        "Now that the data set is ready, we can fit the model. Here, **decision tree algorithm** will be used to train the model. To ensure that we are producing an optimized model, we will train the model using the grid search technique to optimize the `'max_depth'` parameter for the decision tree.\n",
        "\n",
        "In addition,in our implementation, we will be using `ShuffleSplit()` for an alternative form of cross-validation. The `ShuffleSplit()` implementation below will create 10 (`'n_splits'`) shuffled sets, and for each shuffle, 20% (`'test_size'`) of the data will be used as the *validation set*."
      ]
    },
    {
      "cell_type": "code",
      "metadata": {
        "id": "2gqk5sWT8729"
      },
      "source": [
        "from sklearn.tree import DecisionTreeRegressor\n",
        "from sklearn.metrics import make_scorer\n",
        "from sklearn.model_selection import GridSearchCV"
      ],
      "execution_count": null,
      "outputs": []
    },
    {
      "cell_type": "code",
      "metadata": {
        "id": "szEQBVl1-zCG"
      },
      "source": [
        "def fit_model(X, y):\n",
        "  cv_sets = ShuffleSplit(n_splits=10, test_size=0.20, random_state=0)\n",
        "  regressor = DecisionTreeRegressor(random_state=24)\n",
        "  params = {'max_depth' : range(1,10)}\n",
        "  scoring_fnc = make_scorer(performance_metric)\n",
        "  grid = GridSearchCV(regressor, params, scoring=scoring_fnc, cv=cv_sets)\n",
        "  grid_fit = grid.fit(X, y)\n",
        "\n",
        "  return grid_fit.best_estimator_"
      ],
      "execution_count": null,
      "outputs": []
    },
    {
      "cell_type": "code",
      "metadata": {
        "id": "Ak0FkDXTAJHV",
        "outputId": "209cac6f-8c73-49d5-e28f-5a1948599496",
        "colab": {
          "base_uri": "https://localhost:8080/",
          "height": 35
        }
      },
      "source": [
        "reg = fit_model(X_train, y_train)\n",
        "\n",
        "print(\"Parameter 'max_depth' is {} for the optimal model\".format(reg.get_params()['max_depth']))"
      ],
      "execution_count": null,
      "outputs": [
        {
          "output_type": "stream",
          "text": [
            "Parameter 'max_depth' is 4 for the optimal model\n"
          ],
          "name": "stdout"
        }
      ]
    },
    {
      "cell_type": "markdown",
      "metadata": {
        "id": "WKxA5lrAArct"
      },
      "source": [
        "##Predicting the selling prices\n",
        "Now that the model has been trained, the model will be used to predict the housing prices for various values."
      ]
    },
    {
      "cell_type": "code",
      "metadata": {
        "id": "S_cwdHsyAl45",
        "outputId": "3cf13d24-2bd1-4aca-9bb1-9537e21c3788",
        "colab": {
          "base_uri": "https://localhost:8080/",
          "height": 72
        }
      },
      "source": [
        "client_data = [[5, 17, 15],\n",
        "               [4, 32, 22], \n",
        "               [8, 3, 12]] \n",
        "\n",
        "# Show predictions\n",
        "for i, price in enumerate(reg.predict(client_data)):\n",
        "    print(\"Predicted selling price for Client {}'s home: ${:,.2f}\".format(i+1, price))"
      ],
      "execution_count": null,
      "outputs": [
        {
          "output_type": "stream",
          "text": [
            "Predicted selling price for Client 1's home: $412,324.14\n",
            "Predicted selling price for Client 2's home: $234,546.67\n",
            "Predicted selling price for Client 3's home: $914,025.00\n"
          ],
          "name": "stdout"
        }
      ]
    },
    {
      "cell_type": "code",
      "metadata": {
        "id": "h7YAqsSYBH_V",
        "outputId": "8999267b-046c-4af8-aa67-766eed2c9fc5",
        "colab": {
          "base_uri": "https://localhost:8080/",
          "height": 235
        }
      },
      "source": [
        "#Store the predicted prices\n",
        "prices = []\n",
        "\n",
        "for k in range(10):\n",
        "  X_train, X_test, y_train, y_test = train_test_split(X_train, y_train, test_size=0.2, random_state=6)\n",
        "\n",
        "  reg = fit_model(X_train, y_train)\n",
        "\n",
        "  pred = reg.predict([client_data[0]])[0]\n",
        "  prices.append(pred)\n",
        "\n",
        "  print(\"Trial {}: ${:,.2f}\".format(k+1, pred))\n",
        "\n",
        "#Display price range\n",
        "print(\"\\nRange in prices: ${:,.2f}\".format(max(prices) - min(prices)))"
      ],
      "execution_count": null,
      "outputs": [
        {
          "output_type": "stream",
          "text": [
            "Trial 1: $374,780.00\n",
            "Trial 2: $395,581.40\n",
            "Trial 3: $374,675.00\n",
            "Trial 4: $360,640.00\n",
            "Trial 5: $374,700.00\n",
            "Trial 6: $422,730.00\n",
            "Trial 7: $485,321.05\n",
            "Trial 8: $450,030.00\n",
            "Trial 9: $394,800.00\n",
            "Trial 10: $625,800.00\n",
            "\n",
            "Range in prices: $265,160.00\n"
          ],
          "name": "stdout"
        }
      ]
    }
  ]
}